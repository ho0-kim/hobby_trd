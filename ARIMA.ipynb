{
 "cells": [
  {
   "cell_type": "code",
   "execution_count": 1,
   "metadata": {},
   "outputs": [],
   "source": [
    "import tensorflow as tf\n",
    "import matplotlib.pyplot as plt\n",
    "\n",
    "from glob import glob\n",
    "import pandas as pd\n",
    "import datetime\n",
    "import numpy as np\n",
    "import math\n",
    "\n",
    "#from pyramid.arima import auto_arima\n",
    "from statsmodels.tsa.arima_model import ARIMA\n",
    "from sklearn.metrics import mean_squared_error\n",
    "\n",
    "import time"
   ]
  },
  {
   "cell_type": "code",
   "execution_count": null,
   "metadata": {},
   "outputs": [],
   "source": [
    "\"\"\"\n",
    "read data (processed_data)\n",
    "\"\"\"\n",
    "idxname = pd.read_csv(\"data/index.csv\", sep='\\t')\n",
    "stkname = pd.read_csv(\"data/stocks.csv\", sep='\\t')\n",
    "\n",
    "indicators = []\n",
    "stocks = []\n",
    "for filename in idxname.filename:\n",
    "    indicators.append(pd.read_csv(\"processed_data/index/\"+filename))\n",
    "for filename in stkname.symbol:\n",
    "    stocks.append(pd.read_csv(\"processed_data/stocks/\"+filename))\n",
    "\n",
    "#print(indicators[0])\n",
    "#print(stocks[0])\n",
    "\n",
    "\"\"\"\n",
    "Data preparation\n",
    "\"\"\"\n",
    "max0day = int(stocks[0].loc[stocks[0].iloc[:,1]==0].Date.max())\n",
    "\n",
    "#stocks[0].iloc[max0day:,1:5].plot()\n",
    "#plt.show()\n",
    "data = stocks[0].iloc[max0day+1:].Close\n",
    "\n",
    "train = data.iloc[:-730]\n",
    "test = data.iloc[-730:]"
   ]
  },
  {
   "cell_type": "code",
   "execution_count": 4,
   "metadata": {},
   "outputs": [],
   "source": [
    "\"\"\"\n",
    "read data (original)\n",
    "\"\"\"\n",
    "idxname = pd.read_csv(\"data/index.csv\", sep='\\t')\n",
    "stkname = pd.read_csv(\"data/stocks.csv\", sep='\\t')\n",
    "\n",
    "indicators = []\n",
    "stocks = []\n",
    "for filename in idxname.filename:\n",
    "    indicators.append(pd.read_csv(\"data/index/\"+filename).fillna(0))\n",
    "for filename in stkname.symbol:\n",
    "    stocks.append(pd.read_csv(\"data/stocks/\"+filename).fillna(0))\n",
    "\n",
    "#print(indicators[0])\n",
    "#print(stocks[0])\n",
    "\n",
    "\"\"\"\n",
    "Data preparation\n",
    "\"\"\"\n",
    "data = stocks[0].Close\n",
    "\n",
    "train = data.iloc[:-730]\n",
    "test = data.iloc[-730:]"
   ]
  },
  {
   "cell_type": "code",
   "execution_count": 5,
   "metadata": {},
   "outputs": [
    {
     "name": "stdout",
     "output_type": "stream",
     "text": [
      "730\n",
      "Execution time: 125.33494091033936\n"
     ]
    }
   ],
   "source": [
    "\"\"\"\n",
    "ARIMA\n",
    "https://github.com/pierpaolo28/Kaggle-Challenges/blob/master/stock-market-analysis-and-time-series-prediction.ipynb\n",
    "\"\"\"\n",
    "start = time.time()\n",
    "#stepwise_model = auto_arima(train)\n",
    "# stepwise_model = auto_arima(train, start_p=1, start_q=1,\n",
    "#                            max_p=3, max_q=3, m=12,\n",
    "#                            start_P=0, seasonal=False,\n",
    "#                            d=1, trace=True,\n",
    "#                            error_action='ignore',  \n",
    "#                            suppress_warnings=True, \n",
    "#                            stepwise=True)\n",
    "\n",
    "# print(stepwise_model.aic())\n",
    "\n",
    "train_ar = train.values.tolist()\n",
    "test_ar = test.values.tolist()\n",
    "\n",
    "history = train_ar.copy()\n",
    "predictions = []\n",
    "\n",
    "print(len(test_ar))\n",
    "for i in range(len(test_ar)):\n",
    "    model = ARIMA(history, order=(5,1,0))\n",
    "    model_fit = model.fit(disp=0)\n",
    "    output = model_fit.forecast()\n",
    "    yhat = output[0]\n",
    "    predictions.append(yhat)\n",
    "    obs = test_ar[i]\n",
    "    history.append(obs)\n",
    "print('Execution time:', time.time()-start)"
   ]
  },
  {
   "cell_type": "code",
   "execution_count": 7,
   "metadata": {},
   "outputs": [
    {
     "name": "stdout",
     "output_type": "stream",
     "text": [
      "Testing Mean Squared Error: 7.177\n"
     ]
    }
   ],
   "source": [
    "err = mean_squared_error(test_ar, predictions)\n",
    "print('Testing Mean Squared Error: %.3f' % err)"
   ]
  },
  {
   "cell_type": "code",
   "execution_count": 8,
   "metadata": {},
   "outputs": [
    {
     "name": "stdout",
     "output_type": "stream",
     "text": [
      "Symmetric mean absolute percentage error: 21.381\n"
     ]
    }
   ],
   "source": [
    "def smape_kun(y_true, y_pred):\n",
    "    return np.mean((np.abs(np.array(y_pred) - np.array(y_true)) * 200/ (np.abs(y_pred) + np.abs(y_true))))\n",
    "error2 = smape_kun(test_ar, predictions)\n",
    "print('Symmetric mean absolute percentage error: %.3f' % error2)"
   ]
  },
  {
   "cell_type": "code",
   "execution_count": 9,
   "metadata": {},
   "outputs": [
    {
     "data": {
      "text/plain": [
       "<matplotlib.legend.Legend at 0x7f9023d687b8>"
      ]
     },
     "execution_count": 9,
     "metadata": {},
     "output_type": "execute_result"
    }
   ],
   "source": [
    "#plt.figure(figsize=(12,7))\n",
    "%matplotlib qt\n",
    "\n",
    "plt.plot(data, 'green', color='blue', label='Training Data')\n",
    "plt.plot(test.index, predictions, \n",
    "         color='green', \n",
    "         marker=',', #'o', \n",
    "         linestyle='dashed', \n",
    "         label='Predicted Price')\n",
    "plt.plot(test.index, test, color='red', label='Actual Price')\n",
    "plt.title('Prices Prediction')\n",
    "plt.xlabel('Dates')\n",
    "plt.ylabel('Prices')\n",
    "#plt.xticks(np.arange(0,1857, 300), stocks[0]['Date'][0:1857:300])\n",
    "#plt.xticks(np.arange(max0day+1,len(data), 300), stocks[0]['Date'][max0day+1:len(data):300])\n",
    "plt.legend()"
   ]
  },
  {
   "cell_type": "code",
   "execution_count": null,
   "metadata": {},
   "outputs": [],
   "source": []
  },
  {
   "cell_type": "code",
   "execution_count": null,
   "metadata": {},
   "outputs": [],
   "source": []
  },
  {
   "cell_type": "code",
   "execution_count": null,
   "metadata": {},
   "outputs": [],
   "source": []
  },
  {
   "cell_type": "code",
   "execution_count": null,
   "metadata": {},
   "outputs": [],
   "source": []
  }
 ],
 "metadata": {
  "kernelspec": {
   "display_name": "Python 3",
   "language": "python",
   "name": "python3"
  },
  "language_info": {
   "codemirror_mode": {
    "name": "ipython",
    "version": 3
   },
   "file_extension": ".py",
   "mimetype": "text/x-python",
   "name": "python",
   "nbconvert_exporter": "python",
   "pygments_lexer": "ipython3",
   "version": "3.6.8"
  }
 },
 "nbformat": 4,
 "nbformat_minor": 2
}
