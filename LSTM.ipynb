{
 "cells": [
  {
   "cell_type": "code",
   "execution_count": 6,
   "metadata": {},
   "outputs": [],
   "source": [
    "import tensorflow as tf\n",
    "from tensorflow.keras import layers\n",
    "from sklearn.preprocessing import MinMaxScaler\n",
    "\n",
    "import matplotlib.pyplot as plt\n",
    "import pandas as pd\n",
    "import numpy as np\n",
    "\n",
    "import datetime\n",
    "import time"
   ]
  },
  {
   "cell_type": "code",
   "execution_count": null,
   "metadata": {},
   "outputs": [],
   "source": [
    "\"\"\"\n",
    "read data (processed_data)\n",
    "\"\"\"\n",
    "idxname = pd.read_csv(\"data/index.csv\", sep='\\t')\n",
    "stkname = pd.read_csv(\"data/stocks.csv\", sep='\\t')\n",
    "\n",
    "indicators = []\n",
    "stocks = []\n",
    "for filename in idxname.filename:\n",
    "    indicators.append(pd.read_csv(\"processed_data/index/\"+filename))\n",
    "for filename in stkname.symbol:\n",
    "    stocks.append(pd.read_csv(\"processed_data/stocks/\"+filename))\n",
    "\n",
    "#print(indicators[0])\n",
    "#print(stocks[0])\n",
    "\n",
    "\"\"\"\n",
    "Data preparation\n",
    "\"\"\"\n",
    "max0day = int(stocks[0].loc[stocks[0].iloc[:,1]==0].Date.max())\n",
    "\n",
    "#stocks[0].iloc[max0day:,1:5].plot()\n",
    "#plt.show()\n",
    "data = stocks[0].iloc[max0day+1:].Close\n",
    "\n",
    "train = data.iloc[:-730]\n",
    "test = data.iloc[-730:]"
   ]
  },
  {
   "cell_type": "code",
   "execution_count": 2,
   "metadata": {},
   "outputs": [],
   "source": [
    "\"\"\"\n",
    "read data (original)\n",
    "\"\"\"\n",
    "idxname = pd.read_csv(\"data/index.csv\", sep='\\t')\n",
    "stkname = pd.read_csv(\"data/stocks.csv\", sep='\\t')\n",
    "\n",
    "indicators = []\n",
    "stocks = []\n",
    "for filename in idxname.filename:\n",
    "    indicators.append(pd.read_csv(\"data/index/\"+filename).fillna(0))\n",
    "for filename in stkname.symbol:\n",
    "    stocks.append(pd.read_csv(\"data/stocks/\"+filename).fillna(0))\n",
    "\n",
    "#print(indicators[0])\n",
    "#print(stocks[0])\n",
    "\n",
    "\"\"\"\n",
    "Data preparation\n",
    "\"\"\"\n",
    "data = stocks[0].Close\n",
    "\n",
    "train = data.iloc[:-730]\n",
    "test = data.iloc[-730:]"
   ]
  },
  {
   "cell_type": "code",
   "execution_count": 3,
   "metadata": {},
   "outputs": [],
   "source": [
    "train = train.values\n",
    "test = test.values"
   ]
  },
  {
   "cell_type": "code",
   "execution_count": 4,
   "metadata": {},
   "outputs": [
    {
     "name": "stdout",
     "output_type": "stream",
     "text": [
      "(8648, 365, 1)\n",
      "(8648, 1)\n"
     ]
    }
   ],
   "source": [
    "train_x = np.array([train[i:i+365] for i in range(len(train)-365)])[:,:, np.newaxis]\n",
    "train_y = np.array([train[i+365] for i in range(len(train)-365)])[:, np.newaxis]\n",
    "\n",
    "test_x = np.array([test[i:i+365] for i in range(len(test)-365)])[:,:, np.newaxis]\n",
    "test_y = np.array([test[i+365] for i in range(len(test)-365)])[:, np.newaxis]\n",
    "\n",
    "# print(train_x)\n",
    "# print(len(train_x))\n",
    "# print(train_y)\n",
    "# print(len(train_y))\n",
    "print(train_x.shape)\n",
    "print(train_y.shape)\n",
    "\n",
    "from tensorflow.keras.preprocessing.sequence import TimeseriesGenerator\n",
    "data_gen = TimeseriesGenerator(train, train, length=365, batch_size=128)\n",
    "\n",
    "#x, y = data_gen[0]\n",
    "#print(x)\n",
    "#print(len(x))\n",
    "#print(y)\n",
    "#print(len(y))"
   ]
  },
  {
   "cell_type": "code",
   "execution_count": 7,
   "metadata": {},
   "outputs": [],
   "source": [
    "scalers_train = []\n",
    "for i in range(len(train_x)):\n",
    "    scaler = MinMaxScaler()\n",
    "    train_x[i] = scaler.fit_transform(train_x[i])\n",
    "    train_y[i,0] = scaler.transform(train_y)[i,0]\n",
    "    scalers_train.append(scaler)\n",
    "\n",
    "scalers_test = []\n",
    "for i in range(len(test_x)):\n",
    "    scaler = MinMaxScaler()\n",
    "    test_x[i] = scaler.fit_transform(test_x[i])\n",
    "    test_y[i,0] = scaler.transform(test_y)[i,0]\n",
    "    scalers_test.append(scaler)"
   ]
  },
  {
   "cell_type": "code",
   "execution_count": null,
   "metadata": {},
   "outputs": [],
   "source": []
  },
  {
   "cell_type": "code",
   "execution_count": null,
   "metadata": {},
   "outputs": [
    {
     "name": "stderr",
     "output_type": "stream",
     "text": [
      "WARNING: Logging before flag parsing goes to stderr.\n",
      "W0808 16:08:34.119942 140286889608960 deprecation.py:506] From /home/hostaf/anaconda3/lib/python3.6/site-packages/tensorflow/python/ops/init_ops.py:1251: calling VarianceScaling.__init__ (from tensorflow.python.ops.init_ops) with dtype is deprecated and will be removed in a future version.\n",
      "Instructions for updating:\n",
      "Call initializer instance with the dtype argument instead of passing it to the constructor\n",
      "W0808 16:08:34.653034 140286889608960 deprecation.py:323] From /home/hostaf/anaconda3/lib/python3.6/site-packages/tensorflow/python/ops/math_grad.py:1250: add_dispatch_support.<locals>.wrapper (from tensorflow.python.ops.array_ops) is deprecated and will be removed in a future version.\n",
      "Instructions for updating:\n",
      "Use tf.where in 2.0, which has the same broadcast rule as np.where\n"
     ]
    },
    {
     "name": "stdout",
     "output_type": "stream",
     "text": [
      "Model: \"sequential\"\n",
      "_________________________________________________________________\n",
      "Layer (type)                 Output Shape              Param #   \n",
      "=================================================================\n",
      "lstm (LSTM)                  (None, None, 128)         66560     \n",
      "_________________________________________________________________\n",
      "lstm_1 (LSTM)                (None, 64)                49408     \n",
      "_________________________________________________________________\n",
      "dense (Dense)                (None, 1)                 65        \n",
      "=================================================================\n",
      "Total params: 116,033\n",
      "Trainable params: 116,033\n",
      "Non-trainable params: 0\n",
      "_________________________________________________________________\n",
      "None\n",
      "Epoch 1/200\n",
      "8648/8648 [==============================] - 183s 21ms/sample - loss: 0.0641 - mean_squared_error: 0.0641\n",
      "Epoch 2/200\n",
      "3584/8648 [===========>..................] - ETA: 1:46 - loss: 0.0379 - mean_squared_error: 0.0379"
     ]
    }
   ],
   "source": [
    "\"\"\"\n",
    "LSTM\n",
    "\"\"\"\n",
    "model = tf.keras.Sequential()\n",
    "#model.add(layers.BatchNormalization())\n",
    "# (i)\n",
    "model.add(layers.LSTM(128, return_sequences=True, dropout=.5,\n",
    "                     input_shape=(None, 1)))\n",
    "#model.add(layers.BatchNormalization())\n",
    "model.add(layers.LSTM(64))\n",
    "#model.add(layers.Flatten())\n",
    "model.add(layers.Dense(1))\n",
    "#model.add(layers.CuDNNLSTM(128))\n",
    "# (ii)\n",
    "#model.add(layers.Bidirectional(layers.LSTM(128), return_sequences=True))\n",
    "#model.add(layers.Bidirectional(layers.LSTM(64)))\n",
    "\n",
    "adam = tf.keras.optimizers.Adam(lr=0.001)\n",
    "model.compile(loss='mean_squared_error', optimizer=adam, metrics=['mse'])\n",
    "#model.compile(loss='mse', optimizer=adam, metrics=['mse'])\n",
    "\n",
    "model.build()\n",
    "print(model.summary())\n",
    "\n",
    "model.fit(train_x, train_y,\n",
    "          shuffle = True,\n",
    "          epochs=200)\n",
    "\n",
    "# model.fit_generator(data_gen, \n",
    "#                     epochs=200, \n",
    "#                     shuffle=True)"
   ]
  },
  {
   "cell_type": "code",
   "execution_count": null,
   "metadata": {
    "scrolled": true
   },
   "outputs": [],
   "source": [
    "score = model.evaluate(test_x, test_y)\n",
    "print(score)\n",
    "pred_y = model.predict(test_x)\n",
    "from sklearn.metrics import mean_squared_error\n",
    "from math import sqrt\n",
    "print(sqrt(mean_squared_error(test_y, pred_y)))"
   ]
  },
  {
   "cell_type": "code",
   "execution_count": null,
   "metadata": {},
   "outputs": [],
   "source": [
    "def smape_kun(y_true, y_pred):\n",
    "    return np.mean((np.abs(np.array(y_pred) - np.array(y_true)) * 200/ (np.abs(y_pred) + np.abs(y_true))))\n",
    "error2 = smape_kun(test_ar, predictions)\n",
    "print('Symmetric mean absolute percentage error: %.3f' % error2)"
   ]
  },
  {
   "cell_type": "code",
   "execution_count": null,
   "metadata": {},
   "outputs": [],
   "source": [
    "#plt.figure(figsize=(12,7))\n",
    "%matplotlib qt\n",
    "\n",
    "#plt.plot(data, 'green', color='blue', label='Training Data')\n",
    "plt.plot(test.index, predictions, \n",
    "         color='green', \n",
    "         marker=',', #'o', \n",
    "         linestyle='dashed', \n",
    "         label='Predicted Price')\n",
    "plt.plot(test.index, test, color='red', label='Actual Price')\n",
    "plt.title('Prices Prediction')\n",
    "plt.xlabel('Dates')\n",
    "plt.ylabel('Prices')\n",
    "#plt.xticks(np.arange(0,1857, 300), stocks[0]['Date'][0:1857:300])\n",
    "#plt.xticks(np.arange(max0day+1,len(data), 300), stocks[0]['Date'][max0day+1:len(data):300])\n",
    "plt.legend()"
   ]
  },
  {
   "cell_type": "markdown",
   "metadata": {},
   "source": [
    "The graph shows that the trained model just picks the same price of today as the price of the next day."
   ]
  }
 ],
 "metadata": {
  "kernelspec": {
   "display_name": "Python 3",
   "language": "python",
   "name": "python3"
  },
  "language_info": {
   "codemirror_mode": {
    "name": "ipython",
    "version": 3
   },
   "file_extension": ".py",
   "mimetype": "text/x-python",
   "name": "python",
   "nbconvert_exporter": "python",
   "pygments_lexer": "ipython3",
   "version": "3.6.8"
  }
 },
 "nbformat": 4,
 "nbformat_minor": 2
}
